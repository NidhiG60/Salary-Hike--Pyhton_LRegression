{
 "cells": [
  {
   "cell_type": "code",
   "execution_count": 1,
   "id": "248404cb",
   "metadata": {},
   "outputs": [],
   "source": [
    "import pandas as pd\n",
    "import numpy as np\n",
    "import seaborn as sns\n",
    "from sklearn.linear_model import LinearRegression as lr\n",
    "from sklearn.model_selection import train_test_split"
   ]
  },
  {
   "cell_type": "code",
   "execution_count": 2,
   "id": "218414e6",
   "metadata": {},
   "outputs": [
    {
     "name": "stdout",
     "output_type": "stream",
     "text": [
      "<class 'pandas.core.frame.DataFrame'>\n",
      "RangeIndex: 30 entries, 0 to 29\n",
      "Data columns (total 2 columns):\n",
      " #   Column           Non-Null Count  Dtype  \n",
      "---  ------           --------------  -----  \n",
      " 0   YearsExperience  30 non-null     float64\n",
      " 1   Salary           30 non-null     int64  \n",
      "dtypes: float64(1), int64(1)\n",
      "memory usage: 608.0 bytes\n"
     ]
    }
   ],
   "source": [
    "data = pd.read_csv(\"C:/Users/Winner/Desktop/Salary_Data.csv\")\n",
    "data.info()"
   ]
  },
  {
   "cell_type": "code",
   "execution_count": 3,
   "id": "a11fab8c",
   "metadata": {},
   "outputs": [
    {
     "name": "stdout",
     "output_type": "stream",
     "text": [
      "(24, 2)\n",
      "(6, 2)\n"
     ]
    }
   ],
   "source": [
    "train, test = train_test_split(data,test_size=0.2)\n",
    "print(train.shape)\n",
    "print(test.shape)"
   ]
  },
  {
   "cell_type": "code",
   "execution_count": 4,
   "id": "0c206661",
   "metadata": {},
   "outputs": [],
   "source": [
    "x = train['YearsExperience'] .values.reshape(-1,1)\n",
    "y = train['Salary'].values.reshape(-1,1)"
   ]
  },
  {
   "cell_type": "code",
   "execution_count": 5,
   "id": "d60f8b78",
   "metadata": {},
   "outputs": [
    {
     "name": "stdout",
     "output_type": "stream",
     "text": [
      "LinearRegression()\n",
      "Salary hike model training is done.\n"
     ]
    }
   ],
   "source": [
    "model = lr()\n",
    "train_model = model.fit(x,y)\n",
    "print(train_model)\n",
    "print('Salary hike model training is done.')"
   ]
  },
  {
   "cell_type": "code",
   "execution_count": 6,
   "id": "6e2ef285",
   "metadata": {},
   "outputs": [
    {
     "name": "stdout",
     "output_type": "stream",
     "text": [
      "[[9719.94396822]]\n",
      "[23917.89524357]\n"
     ]
    }
   ],
   "source": [
    "print(model.coef_)\n",
    "print(model.intercept_)"
   ]
  },
  {
   "cell_type": "code",
   "execution_count": 7,
   "id": "49a44ce4",
   "metadata": {},
   "outputs": [
    {
     "name": "stdout",
     "output_type": "stream",
     "text": [
      "The salary is USD 43,358, after 2 years of work experience.\n"
     ]
    }
   ],
   "source": [
    "x = 2\n",
    "y = format(round((model.coef_[0][0])*x + (model.intercept_[0])),',')\n",
    "print(\"The salary is USD {}, after {} years of work experience.\".format(y,x))"
   ]
  },
  {
   "cell_type": "code",
   "execution_count": 8,
   "id": "40107aff",
   "metadata": {},
   "outputs": [
    {
     "name": "stdout",
     "output_type": "stream",
     "text": [
      "The salary is USD 77,378, after 5.5 years of work experience.\n"
     ]
    }
   ],
   "source": [
    "x = 5.5\n",
    "y = format(round((model.coef_[0][0])*x + (model.intercept_[0])),',')\n",
    "print(\"The salary is USD {}, after {} years of work experience.\".format(y,x))"
   ]
  },
  {
   "cell_type": "code",
   "execution_count": 9,
   "id": "2fd1fa1f",
   "metadata": {},
   "outputs": [
    {
     "name": "stdout",
     "output_type": "stream",
     "text": [
      "The salary is USD 179,437, after 16 years of work experience.\n"
     ]
    }
   ],
   "source": [
    "x = 16\n",
    "y = format(round((model.coef_[0][0])*x + (model.intercept_[0])),',')\n",
    "print(\"The salary is USD {}, after {} years of work experience.\".format(y,x))"
   ]
  },
  {
   "cell_type": "code",
   "execution_count": 10,
   "id": "1ea73116",
   "metadata": {},
   "outputs": [
    {
     "data": {
      "text/plain": [
       "array([[10.5],\n",
       "       [ 3. ],\n",
       "       [ 2.9],\n",
       "       [ 1.1],\n",
       "       [ 1.5],\n",
       "       [ 6.8]])"
      ]
     },
     "execution_count": 10,
     "metadata": {},
     "output_type": "execute_result"
    }
   ],
   "source": [
    "x_test = test['YearsExperience'].values.reshape(-1,1)\n",
    "x_test"
   ]
  },
  {
   "cell_type": "code",
   "execution_count": 11,
   "id": "2bb2fefb",
   "metadata": {},
   "outputs": [
    {
     "data": {
      "text/plain": [
       "array([[125977.30690989],\n",
       "       [ 53077.72714823],\n",
       "       [ 52105.73275141],\n",
       "       [ 34609.83360861],\n",
       "       [ 38497.8111959 ],\n",
       "       [ 90013.51422747]])"
      ]
     },
     "execution_count": 11,
     "metadata": {},
     "output_type": "execute_result"
    }
   ],
   "source": [
    "pred_sal = train_model.predict(x_test)\n",
    "pred_sal"
   ]
  },
  {
   "cell_type": "code",
   "execution_count": 12,
   "id": "6b9fee94",
   "metadata": {},
   "outputs": [
    {
     "data": {
      "text/html": [
       "<div>\n",
       "<style scoped>\n",
       "    .dataframe tbody tr th:only-of-type {\n",
       "        vertical-align: middle;\n",
       "    }\n",
       "\n",
       "    .dataframe tbody tr th {\n",
       "        vertical-align: top;\n",
       "    }\n",
       "\n",
       "    .dataframe thead th {\n",
       "        text-align: right;\n",
       "    }\n",
       "</style>\n",
       "<table border=\"1\" class=\"dataframe\">\n",
       "  <thead>\n",
       "    <tr style=\"text-align: right;\">\n",
       "      <th></th>\n",
       "      <th>YearsExperience</th>\n",
       "      <th>Salary</th>\n",
       "      <th>Pred_Sal</th>\n",
       "      <th>Error</th>\n",
       "    </tr>\n",
       "  </thead>\n",
       "  <tbody>\n",
       "    <tr>\n",
       "      <th>29</th>\n",
       "      <td>10.5</td>\n",
       "      <td>121872</td>\n",
       "      <td>125977.306910</td>\n",
       "      <td>-4105.306910</td>\n",
       "    </tr>\n",
       "    <tr>\n",
       "      <th>6</th>\n",
       "      <td>3.0</td>\n",
       "      <td>60150</td>\n",
       "      <td>53077.727148</td>\n",
       "      <td>7072.272852</td>\n",
       "    </tr>\n",
       "    <tr>\n",
       "      <th>5</th>\n",
       "      <td>2.9</td>\n",
       "      <td>56642</td>\n",
       "      <td>52105.732751</td>\n",
       "      <td>4536.267249</td>\n",
       "    </tr>\n",
       "    <tr>\n",
       "      <th>0</th>\n",
       "      <td>1.1</td>\n",
       "      <td>39343</td>\n",
       "      <td>34609.833609</td>\n",
       "      <td>4733.166391</td>\n",
       "    </tr>\n",
       "    <tr>\n",
       "      <th>2</th>\n",
       "      <td>1.5</td>\n",
       "      <td>37731</td>\n",
       "      <td>38497.811196</td>\n",
       "      <td>-766.811196</td>\n",
       "    </tr>\n",
       "    <tr>\n",
       "      <th>20</th>\n",
       "      <td>6.8</td>\n",
       "      <td>91738</td>\n",
       "      <td>90013.514227</td>\n",
       "      <td>1724.485773</td>\n",
       "    </tr>\n",
       "  </tbody>\n",
       "</table>\n",
       "</div>"
      ],
      "text/plain": [
       "    YearsExperience  Salary       Pred_Sal        Error\n",
       "29             10.5  121872  125977.306910 -4105.306910\n",
       "6               3.0   60150   53077.727148  7072.272852\n",
       "5               2.9   56642   52105.732751  4536.267249\n",
       "0               1.1   39343   34609.833609  4733.166391\n",
       "2               1.5   37731   38497.811196  -766.811196\n",
       "20              6.8   91738   90013.514227  1724.485773"
      ]
     },
     "execution_count": 12,
     "metadata": {},
     "output_type": "execute_result"
    }
   ],
   "source": [
    "test['Pred_Sal'] = train_model.predict(x_test)\n",
    "test['Error'] = test['Salary'] - test['Pred_Sal']\n",
    "test"
   ]
  },
  {
   "cell_type": "code",
   "execution_count": 13,
   "id": "f18264cf",
   "metadata": {},
   "outputs": [
    {
     "data": {
      "text/plain": [
       "<Axes: xlabel='YearsExperience', ylabel='Pred_Sal'>"
      ]
     },
     "execution_count": 13,
     "metadata": {},
     "output_type": "execute_result"
    },
    {
     "data": {
      "image/png": "[encoded data removed]",
      "text/plain": [
       "<Figure size 640x480 with 1 Axes>"
      ]
     },
     "metadata": {},
     "output_type": "display_data"
    }
   ],
   "source": [
    "sns.regplot(x = 'YearsExperience', y = 'Pred_Sal', data = test, color='red')"
   ]
  },
  {
   "cell_type": "code",
   "execution_count": 14,
   "id": "ea77b62f",
   "metadata": {},
   "outputs": [
    {
     "data": {
      "text/plain": [
       "<Axes: xlabel='YearsExperience', ylabel='Salary'>"
      ]
     },
     "execution_count": 14,
     "metadata": {},
     "output_type": "execute_result"
    },
    {
     "data": {
      "image/png": "[encoded data removed]",
      "text/plain": [
       "<Figure size 640x480 with 1 Axes>"
      ]
     },
     "metadata": {},
     "output_type": "display_data"
    }
   ],
   "source": [
    "sns.regplot(x = 'YearsExperience', y = 'Salary', data = train)"
   ]
  }
 ],
 "metadata": {
  "kernelspec": {
   "display_name": "Python 3 (ipykernel)",
   "language": "python",
   "name": "python3"
  },
  "language_info": {
   "codemirror_mode": {
    "name": "ipython",
    "version": 3
   },
   "file_extension": ".py",
   "mimetype": "text/x-python",
   "name": "python",
   "nbconvert_exporter": "python",
   "pygments_lexer": "ipython3",
   "version": "3.10.9"
  }
 },
 "nbformat": 4,
 "nbformat_minor": 5
}
